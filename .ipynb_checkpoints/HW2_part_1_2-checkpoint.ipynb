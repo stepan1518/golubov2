{
 "cells": [
  {
   "cell_type": "markdown",
   "id": "b7e1726c",
   "metadata": {},
   "source": [
    "Галайда ГригорьевС"
   ]
  },
  {
   "cell_type": "code",
   "execution_count": 1,
   "id": "2d238d37",
   "metadata": {},
   "outputs": [],
   "source": [
    "import cv2\n",
    "import numpy as np\n",
    "import matplotlib.pyplot as plt"
   ]
  },
  {
   "cell_type": "code",
   "execution_count": 2,
   "id": "61560fd7",
   "metadata": {},
   "outputs": [],
   "source": [
    "def show_image(img, im_name='-'):\n",
    "    cv2.imshow(im_name, np.uint8(img))\n",
    "    cv2.waitKey(0)\n",
    "    cv2.destroyAllWindows()\n",
    "\n",
    "img = cv2.imread('photo.jpg')\n",
    "img = cv2.cvtColor(img, cv2.COLOR_BGR2GRAY)\n",
    "\n",
    "img = cv2.GaussianBlur(img, (7, 7), 0)\n",
    "# show_image(img)\n",
    "lower = 0.6\n",
    "higher = 1.6\n",
    "canny_img = cv2.Canny(img, img.mean() * lower, img.mean() * higher)\n",
    "show_image(canny_img, im_name=f'{lower}, {higher}')"
   ]
  },
  {
   "cell_type": "code",
   "execution_count": 3,
   "id": "48638ebe",
   "metadata": {},
   "outputs": [],
   "source": [
    "# (0, 1.7; 0.1, 1.8; 0.2, 1.7;(одинаковые)) 0.3, 1,6; 0.3, 1.7; - общие границы"
   ]
  },
  {
   "cell_type": "code",
   "execution_count": 4,
   "id": "dfb6b25d",
   "metadata": {},
   "outputs": [],
   "source": [
    "# 0.2, 1.2; 0.4, 1.3; - подробные границы"
   ]
  },
  {
   "cell_type": "code",
   "execution_count": 5,
   "id": "e393c6ca",
   "metadata": {},
   "outputs": [],
   "source": [
    "# 0.6, 1.6; 0.7, 1.4; 0.7, 1.7; - козыри"
   ]
  },
  {
   "cell_type": "code",
   "execution_count": 6,
   "id": "1cce7fd7",
   "metadata": {},
   "outputs": [],
   "source": [
    "canny_img = cv2.Canny(img, img.mean() * 2 / 3, img.mean() * 4 / 3)\n",
    "show_image(canny_img)"
   ]
  },
  {
   "cell_type": "code",
   "execution_count": 7,
   "id": "3713962f",
   "metadata": {},
   "outputs": [],
   "source": [
    "max_detection = cv2.Canny(img, 0, 0)\n",
    "# show_image(max_detection)"
   ]
  },
  {
   "cell_type": "code",
   "execution_count": 8,
   "id": "e1bdf28e",
   "metadata": {},
   "outputs": [],
   "source": [
    "def auto_canny(img, sigma=0.33):\n",
    "    v = np.median(img)\n",
    "    lower = int(max(0, (1.0 - sigma) * v))\n",
    "    upper = int(min(255, (1.0 + sigma) * v))\n",
    "    edged = cv2.Canny(img, lower, upper)\n",
    "    return edged\n",
    "show_image(auto_canny(img))"
   ]
  },
  {
   "cell_type": "code",
   "execution_count": 9,
   "id": "f05a798b",
   "metadata": {},
   "outputs": [],
   "source": [
    "image1 = cv2.imread('photo.jpg', cv2.IMREAD_GRAYSCALE)\n",
    "\n",
    "cpy_img = image1.copy()\n",
    "height, width = cpy_img.shape[:2]\n",
    "cpy_img = cpy_img[:, width * 2 // 3 : width]\n",
    "\n",
    "height, width = cpy_img.shape[:2]\n",
    "image2 = cv2.getRotationMatrix2D((width, height), 30, 1.0)\n",
    "image2 = cv2.warpAffine(cpy_img, image2, (width, height))\n",
    "\n",
    "h2, w2 = image2.shape[:2]\n",
    "h2, w2 = int(h2 * 0.8), int(w2 * 1.5)\n",
    "image2 = cv2.resize(image2, (w2, h2))\n",
    "show_image(image2)\n",
    "\n",
    "orb = cv2.ORB_create()\n",
    "\n",
    "keypoints1, descriptors1 = orb.detectAndCompute(image1, None)\n",
    "keypoints2, descriptors2 = orb.detectAndCompute(image2, None)\n",
    "bf = cv2.BFMatcher(cv2.NORM_HAMMING, crossCheck=True)\n",
    "matches = bf.match(descriptors1, descriptors2)\n",
    "matches = sorted(matches, key=lambda x: x.distance)\n",
    "\n",
    "matched_image = cv2.drawMatches(\n",
    "    image1,\n",
    "    keypoints1,\n",
    "    image2,\n",
    "    keypoints2,\n",
    "    matches[:10],\n",
    "    None, flags=cv2.DrawMatchesFlags_NOT_DRAW_SINGLE_POINTS\n",
    ")\n",
    "\n",
    "show_image(matched_image, \"Matched image\")"
   ]
  },
  {
   "cell_type": "code",
   "execution_count": null,
   "id": "039cff27",
   "metadata": {},
   "outputs": [],
   "source": []
  }
 ],
 "metadata": {
  "kernelspec": {
   "display_name": "Python 3 (ipykernel)",
   "language": "python",
   "name": "python3"
  },
  "language_info": {
   "codemirror_mode": {
    "name": "ipython",
    "version": 3
   },
   "file_extension": ".py",
   "mimetype": "text/x-python",
   "name": "python",
   "nbconvert_exporter": "python",
   "pygments_lexer": "ipython3",
   "version": "3.12.2"
  }
 },
 "nbformat": 4,
 "nbformat_minor": 5
}
