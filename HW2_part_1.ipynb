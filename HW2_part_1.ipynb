{
 "cells": [
  {
   "cell_type": "markdown",
   "id": "b7e1726c",
   "metadata": {},
   "source": [
    "Галайда ГригорьевС"
   ]
  },
  {
   "cell_type": "code",
   "execution_count": 1,
   "id": "2d238d37",
   "metadata": {},
   "outputs": [],
   "source": [
    "import cv2\n",
    "import numpy as np\n",
    "import matplotlib.pyplot as plt"
   ]
  },
  {
   "cell_type": "code",
   "execution_count": 2,
   "id": "61560fd7",
   "metadata": {},
   "outputs": [],
   "source": [
    "def show_image(img, im_name='-'):\n",
    "    cv2.imshow(im_name, np.uint8(img))\n",
    "    cv2.waitKey(0)\n",
    "    cv2.destroyAllWindows()\n",
    "\n",
    "img = cv2.imread('photo.jpg')\n",
    "img = cv2.cvtColor(img, cv2.COLOR_BGR2GRAY)\n",
    "\n",
    "img = cv2.GaussianBlur(img, (7, 7), 0)\n",
    "# show_image(img)\n",
    "lower = 0.6\n",
    "higher = 1.6\n",
    "canny_img = cv2.Canny(img, img.mean() * lower, img.mean() * higher)\n",
    "show_image(canny_img, im_name=f'{lower}, {higher}')"
   ]
  },
  {
   "cell_type": "code",
   "execution_count": 3,
   "id": "48638ebe",
   "metadata": {},
   "outputs": [],
   "source": [
    "# (0, 1.7; 0.1, 1.8; 0.2, 1.7;(одинаковые)) 0.3, 1,6; 0.3, 1.7; - общие границы"
   ]
  },
  {
   "cell_type": "code",
   "execution_count": 4,
   "id": "dfb6b25d",
   "metadata": {},
   "outputs": [],
   "source": [
    "# 0.2, 1.2; 0.4, 1.3; - подробные границы"
   ]
  },
  {
   "cell_type": "code",
   "execution_count": 5,
   "id": "e393c6ca",
   "metadata": {},
   "outputs": [],
   "source": [
    "# 0.6, 1.6; 0.7, 1.4; 0.7, 1.7; - козыри"
   ]
  },
  {
   "cell_type": "code",
   "execution_count": 6,
   "id": "1cce7fd7",
   "metadata": {},
   "outputs": [],
   "source": [
    "canny_img = cv2.Canny(img, img.mean() * 2 / 3, img.mean() * 4 / 3)\n",
    "show_image(canny_img)"
   ]
  },
  {
   "cell_type": "code",
   "execution_count": 7,
   "id": "3713962f",
   "metadata": {},
   "outputs": [],
   "source": [
    "max_detection = cv2.Canny(img, 0, 0)\n",
    "# show_image(max_detection)"
   ]
  },
  {
   "cell_type": "code",
   "execution_count": 8,
   "id": "e1bdf28e",
   "metadata": {},
   "outputs": [],
   "source": [
    "def auto_canny(img, sigma=0.33):\n",
    "    v = np.median(img)\n",
    "    lower = int(max(0, (1.0 - sigma) * v))\n",
    "    upper = int(min(255, (1.0 + sigma) * v))\n",
    "    edged = cv2.Canny(img, lower, upper)\n",
    "    return edged\n",
    "show_image(auto_canny(img))"
   ]
  },
  {
   "cell_type": "code",
   "execution_count": null,
   "id": "f05a798b",
   "metadata": {},
   "outputs": [],
   "source": []
  }
 ],
 "metadata": {
  "kernelspec": {
   "display_name": "Python 3 (ipykernel)",
   "language": "python",
   "name": "python3"
  },
  "language_info": {
   "codemirror_mode": {
    "name": "ipython",
    "version": 3
   },
   "file_extension": ".py",
   "mimetype": "text/x-python",
   "name": "python",
   "nbconvert_exporter": "python",
   "pygments_lexer": "ipython3",
   "version": "3.9.18"
  }
 },
 "nbformat": 4,
 "nbformat_minor": 5
}
